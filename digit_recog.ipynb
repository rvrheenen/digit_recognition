{
 "cells": [
  {
   "cell_type": "code",
   "execution_count": 1,
   "metadata": {
    "collapsed": false,
    "deletable": true,
    "editable": true
   },
   "outputs": [],
   "source": [
    "# Import all needed libraries/packages\n",
    "\n",
    "from array import array # used only for input processing\n",
    "import struct # used only for input processing\n",
    "\n",
    "import numpy as np\n",
    "import matplotlib.pyplot as plt\n",
    "\n",
    "from sklearn import metrics"
   ]
  },
  {
   "cell_type": "code",
   "execution_count": 2,
   "metadata": {
    "collapsed": false,
    "deletable": true,
    "editable": true
   },
   "outputs": [],
   "source": [
    "# Method to import and decode the training/testing data\n",
    "def decode(p1,p2,p3,p4):\n",
    "    try:\n",
    "        label = open(p2, 'rb')\n",
    "        imgs = open(p1, 'rb')\n",
    "        test_imgs = open(p3, 'rb')\n",
    "        test_labels = open(p4, 'rb')\n",
    "    except Exception:\n",
    "        print (\"FileNotFound\")\n",
    "        exit()\n",
    "    \n",
    "    label.read(8)\n",
    "    labels = list(array(\"B\", label.read()))\n",
    "    \n",
    "    test_labels.read(8)\n",
    "    t_labels = list(array(\"B\", test_labels.read()))\n",
    "    \n",
    "    magic, size, rows, cols = struct.unpack(\">IIII\", imgs.read(16))\n",
    "    images = [float(i)/float(255) for i in list(array(\"B\", imgs.read()))]\n",
    "    \n",
    "    t_magic, t_size, t_rows, t_cols = struct.unpack(\">IIII\", test_imgs.read(16))\n",
    "    t_images = [float(i) / float(255) for i in list(array(\"B\", test_imgs.read()))]\n",
    "    \n",
    "    train_data=[(images[i:i+784]) for i in range(0,len(images),784)]\n",
    "    test_data=[(t_images[i:i+784]) for i in range(0,len(t_images),784)]\n",
    "    \n",
    "    return train_data, labels, test_data, t_labels"
   ]
  },
  {
   "cell_type": "code",
   "execution_count": 3,
   "metadata": {
    "collapsed": false,
    "deletable": true,
    "editable": true
   },
   "outputs": [],
   "source": [
    "# Specify the files for the training and testing data\n",
    "train_data, train_labels, test_data, test_labels = decode('train-images-idx3-ubyte', 'train-labels-idx1-ubyte', 't10k-images-idx3-ubyte', 't10k-labels-idx1-ubyte')"
   ]
  },
  {
   "cell_type": "code",
   "execution_count": 4,
   "metadata": {
    "collapsed": true,
    "deletable": true,
    "editable": true
   },
   "outputs": [],
   "source": [
    "# METHOD: Plots the classification report\n",
    "def plot_classification_report(cr, title='Classification report \\n', with_avg_total=False, cmap=plt.cm.Blues):\n",
    "    lines = cr.split('\\n')\n",
    "\n",
    "    classes = []\n",
    "    plotMat = []\n",
    "    for line in lines[2 : (len(lines) - 3)]:\n",
    "        # print(line)\n",
    "        t = line.split()\n",
    "        # print(t)\n",
    "        classes.append(t[0])\n",
    "        v = [float(x) for x in t[1: len(t) - 1]]\n",
    "        # print(v)\n",
    "        plotMat.append(v)\n",
    "\n",
    "    if with_avg_total:\n",
    "        aveTotal = lines[len(lines) - 1].split()\n",
    "        classes.append('avg/total')\n",
    "        vAveTotal = [float(x) for x in t[1:len(aveTotal) - 1]]\n",
    "        plotMat.append(vAveTotal)\n",
    "\n",
    "\n",
    "    plt.imshow(plotMat, interpolation='nearest', cmap=cmap)\n",
    "    plt.title(title)\n",
    "    plt.colorbar()\n",
    "    x_tick_marks = np.arange(3)\n",
    "    y_tick_marks = np.arange(len(classes))\n",
    "    plt.xticks(x_tick_marks, ['precision', 'recall', 'f1-score'], rotation=45)\n",
    "    plt.yticks(y_tick_marks, classes)\n",
    "    plt.tight_layout()\n",
    "    plt.ylabel('Digits')\n",
    "    plt.xlabel('Measures')\n",
    "    plt.show()"
   ]
  },
  {
   "cell_type": "code",
   "execution_count": 5,
   "metadata": {
    "collapsed": true,
    "deletable": true,
    "editable": true
   },
   "outputs": [],
   "source": [
    "# METHOD: Score the model and output evaluation\n",
    "def show_scoring(model, model_name):\n",
    "    prediction = model.predict(test_data).astype(np.int32)\n",
    "\n",
    "    print(\"Scoring of %s:\\n\" % (model_name))\n",
    "    \n",
    "    print(\"Accuracy score: %s\\n\" % model.score(test_data, test_labels))\n",
    "    \n",
    "    print(\"Confusion Matrix:\\n\")\n",
    "    print(\"\\t\", end=\"\")\n",
    "    for i in range(10):\n",
    "        print(i, end=\"\\t\")\n",
    "    print('\\n\\t', end=\"\")\n",
    "    for i in range(10):\n",
    "        print('----', end=\"\\t\")\n",
    "    print()\n",
    "    for i, row in enumerate(metrics.confusion_matrix(prediction, test_labels, labels=range(10))):\n",
    "        print(\"    %d\\t|\" % i, end=\"\")\n",
    "        for cell in row:\n",
    "            print(cell, end=\"\\t\")\n",
    "        print()\n",
    "    print(\"\\n\\n\")\n",
    "\n",
    "    print(\"Classification report:\\n\")\n",
    "    print(metrics.classification_report(prediction, test_labels))\n",
    "\n",
    "    plot_classification_report(metrics.classification_report(prediction, test_labels))\n",
    "   "
   ]
  },
  {
   "cell_type": "code",
   "execution_count": 78,
   "metadata": {
    "collapsed": false,
    "deletable": true,
    "editable": true
   },
   "outputs": [
    {
     "name": "stdout",
     "output_type": "stream",
     "text": [
      "Scoring of Support Vector Machine:\n",
      "\n",
      "Accuracy score: 0.9446\n",
      "\n",
      "Confusion Matrix:\n",
      "\n",
      "\t0\t1\t2\t3\t4\t5\t6\t7\t8\t9\t\n",
      "\t----\t----\t----\t----\t----\t----\t----\t----\t----\t----\t\n",
      "    0\t|967\t0\t9\t1\t1\t7\t9\t2\t4\t8\t\n",
      "    1\t|0\t1121\t1\t1\t1\t4\t3\t13\t7\t7\t\n",
      "    2\t|2\t2\t961\t15\t7\t5\t4\t22\t7\t0\t\n",
      "    3\t|0\t2\t9\t951\t0\t30\t1\t5\t14\t12\t\n",
      "    4\t|0\t0\t10\t1\t938\t7\t5\t8\t8\t31\t\n",
      "    5\t|5\t1\t1\t15\t0\t810\t9\t1\t23\t6\t\n",
      "    6\t|4\t4\t13\t1\t7\t12\t926\t0\t10\t1\t\n",
      "    7\t|1\t1\t9\t10\t2\t2\t0\t956\t6\t13\t\n",
      "    8\t|1\t4\t17\t11\t2\t10\t1\t3\t892\t7\t\n",
      "    9\t|0\t0\t2\t4\t24\t5\t0\t18\t3\t924\t\n",
      "\n",
      "\n",
      "\n",
      "Classification report:\n",
      "\n",
      "             precision    recall  f1-score   support\n",
      "\n",
      "          0       0.99      0.96      0.97      1008\n",
      "          1       0.99      0.97      0.98      1158\n",
      "          2       0.93      0.94      0.93      1025\n",
      "          3       0.94      0.93      0.94      1024\n",
      "          4       0.96      0.93      0.94      1008\n",
      "          5       0.91      0.93      0.92       871\n",
      "          6       0.97      0.95      0.96       978\n",
      "          7       0.93      0.96      0.94      1000\n",
      "          8       0.92      0.94      0.93       948\n",
      "          9       0.92      0.94      0.93       980\n",
      "\n",
      "avg / total       0.95      0.94      0.94     10000\n",
      "\n"
     ]
    },
    {
     "data": {
      "image/png": "[encoded data removed]",
      "text/plain": [
       "<matplotlib.figure.Figure at 0x1144c1f98>"
      ]
     },
     "metadata": {},
     "output_type": "display_data"
    }
   ],
   "source": [
    "# Run Support Vector Machine\n",
    "from sklearn import svm\n",
    "# http://scikit-learn.org/stable/modules/generated/sklearn.svm.SVC.html#sklearn.svm.SVC\n",
    "\n",
    "clf = svm.SVC(kernel='rbf', \n",
    "              gamma='auto', \n",
    "              tol=0.001, # Tolerance for stopping criterion\n",
    "              C=1.0, # Penalty parameter of the error term\n",
    "              class_weight=None,\n",
    "              max_iter=-1, \n",
    "              random_state=None, \n",
    "              shrinking=True)\n",
    "\n",
    "clf.fit(train_data, train_labels)\n",
    "\n",
    "show_scoring(clf, \"Support Vector Machine\")"
   ]
  },
  {
   "cell_type": "code",
   "execution_count": 6,
   "metadata": {
    "collapsed": false,
    "deletable": true,
    "editable": true
   },
   "outputs": [
    {
     "name": "stdout",
     "output_type": "stream",
     "text": [
      "Scoring of Linear Regression:\n",
      "\n",
      "Accuracy score: 0.9198\n",
      "\n",
      "Confusion Matrix:\n",
      "\n",
      "\t0\t1\t2\t3\t4\t5\t6\t7\t8\t9\t\n",
      "\t----\t----\t----\t----\t----\t----\t----\t----\t----\t----\t\n",
      "    0\t|959\t0\t9\t4\t1\t10\t9\t2\t10\t8\t\n",
      "    1\t|0\t1112\t8\t0\t2\t2\t3\t7\t14\t8\t\n",
      "    2\t|1\t3\t920\t17\t5\t0\t7\t22\t5\t2\t\n",
      "    3\t|2\t1\t20\t918\t3\t42\t2\t5\t21\t13\t\n",
      "    4\t|0\t0\t9\t2\t915\t10\t6\t8\t15\t31\t\n",
      "    5\t|5\t1\t4\t23\t0\t769\t20\t1\t28\t14\t\n",
      "    6\t|6\t5\t10\t4\t10\t17\t907\t1\t8\t0\t\n",
      "    7\t|4\t1\t11\t12\t2\t7\t1\t951\t11\t24\t\n",
      "    8\t|1\t12\t37\t21\t6\t28\t3\t5\t850\t12\t\n",
      "    9\t|2\t0\t4\t9\t38\t7\t0\t26\t12\t897\t\n",
      "\n",
      "\n",
      "\n",
      "Classification report:\n",
      "\n",
      "             precision    recall  f1-score   support\n",
      "\n",
      "          0       0.98      0.95      0.96      1012\n",
      "          1       0.98      0.96      0.97      1156\n",
      "          2       0.89      0.94      0.91       982\n",
      "          3       0.91      0.89      0.90      1027\n",
      "          4       0.93      0.92      0.93       996\n",
      "          5       0.86      0.89      0.88       865\n",
      "          6       0.95      0.94      0.94       968\n",
      "          7       0.93      0.93      0.93      1024\n",
      "          8       0.87      0.87      0.87       975\n",
      "          9       0.89      0.90      0.90       995\n",
      "\n",
      "avg / total       0.92      0.92      0.92     10000\n",
      "\n"
     ]
    },
    {
     "data": {
      "image/png": "[encoded data removed]",
      "text/plain": [
       "<matplotlib.figure.Figure at 0x1207c2cf8>"
      ]
     },
     "metadata": {},
     "output_type": "display_data"
    }
   ],
   "source": [
    "# Run Linear Regression\n",
    "from sklearn.linear_model import LogisticRegression\n",
    "# http://scikit-learn.org/stable/modules/generated/sklearn.linear_model.LogisticRegression.html#sklearn.linear_model.LogisticRegression\n",
    "\n",
    "clf = LogisticRegression(solver='newton-cg',\n",
    "                         penalty='l2',\n",
    "                         multi_class='ovr',\n",
    "                         tol=0.0001, # Tolerance for stopping criterion\n",
    "                         C=1.0, # Inverse of regularization strength\n",
    "                         max_iter=100, # maximum number of iterations for the solvers to converge\n",
    "                         class_weight=None, \n",
    "                         random_state=None,  \n",
    "                         n_jobs=-1) # number of cores to use (-1 = no limit)\n",
    "\n",
    "clf.fit(train_data, train_labels)\n",
    "\n",
    "show_scoring(clf, \"Linear Regression\")"
   ]
  },
  {
   "cell_type": "code",
   "execution_count": 9,
   "metadata": {
    "collapsed": false,
    "deletable": true,
    "editable": true
   },
   "outputs": [
    {
     "name": "stdout",
     "output_type": "stream",
     "text": [
      "Scoring of Multi-layer Perceptron Neural Network:\n",
      "\n",
      "Accuracy score: 0.9699\n",
      "\n",
      "Confusion Matrix:\n",
      "\n",
      "\t0\t1\t2\t3\t4\t5\t6\t7\t8\t9\t\n",
      "\t----\t----\t----\t----\t----\t----\t----\t----\t----\t----\t\n",
      "    0\t|963\t0\t3\t0\t0\t3\t4\t1\t6\t1\t\n",
      "    1\t|0\t1123\t3\t0\t0\t1\t2\t4\t0\t3\t\n",
      "    2\t|1\t2\t997\t6\t4\t0\t4\t12\t7\t0\t\n",
      "    3\t|0\t3\t5\t989\t1\t15\t0\t3\t11\t2\t\n",
      "    4\t|4\t0\t4\t0\t955\t2\t8\t3\t6\t14\t\n",
      "    5\t|1\t0\t0\t5\t1\t853\t4\t0\t6\t6\t\n",
      "    6\t|2\t2\t3\t0\t3\t5\t930\t0\t4\t2\t\n",
      "    7\t|3\t1\t6\t3\t1\t3\t2\t996\t3\t9\t\n",
      "    8\t|3\t4\t10\t5\t1\t7\t4\t2\t929\t8\t\n",
      "    9\t|3\t0\t1\t2\t16\t3\t0\t7\t2\t964\t\n",
      "\n",
      "\n",
      "\n",
      "Classification report:\n",
      "\n",
      "             precision    recall  f1-score   support\n",
      "\n",
      "          0       0.98      0.98      0.98       981\n",
      "          1       0.99      0.99      0.99      1136\n",
      "          2       0.97      0.97      0.97      1033\n",
      "          3       0.98      0.96      0.97      1029\n",
      "          4       0.97      0.96      0.97       996\n",
      "          5       0.96      0.97      0.96       876\n",
      "          6       0.97      0.98      0.97       951\n",
      "          7       0.97      0.97      0.97      1027\n",
      "          8       0.95      0.95      0.95       973\n",
      "          9       0.96      0.97      0.96       998\n",
      "\n",
      "avg / total       0.97      0.97      0.97     10000\n",
      "\n"
     ]
    },
    {
     "data": {
      "image/png": "[encoded data removed]",
      "text/plain": [
       "<matplotlib.figure.Figure at 0x10fdb2b38>"
      ]
     },
     "metadata": {},
     "output_type": "display_data"
    }
   ],
   "source": [
    "from sklearn.neural_network import MLPClassifier\n",
    "#http://scikit-learn.org/stable/modules/generated/sklearn.neural_network.MLPClassifier.html#sklearn.neural_network.MLPClassifier\n",
    "\n",
    "clf = MLPClassifier(solver='lbfgs', \n",
    "                    hidden_layer_sizes=(60), # tuple with hidden layers, ith element is #neurons in ith layer eg: (10,30,5)\n",
    "                    tol=0.0001, # Tolerance for stopping criterion\n",
    "                    learning_rate='constant', # Learning rate schedule for weight updates {‘constant’, ‘invscaling’, ‘adaptive’}\n",
    "                    activation='relu', \n",
    "                    alpha=1e-05, # L2 penalty (regularization term) parameter.\n",
    "                    beta_1=0.9, \n",
    "                    beta_2=0.999, \n",
    "                    early_stopping=False, \n",
    "                    epsilon=1e-08, \n",
    "                    learning_rate_init=0.001, # Initial learning rate controls the step-size in updating the weights.\n",
    "                    max_iter=200, # Maximum iterations, solver iterates until convergence (tol) or this number of iterations\n",
    "                    random_state=None)\n",
    "\n",
    "clf.fit(train_data, train_labels)\n",
    "\n",
    "show_scoring(clf, \"Multi-layer Perceptron Neural Network\")"
   ]
  },
  {
   "cell_type": "code",
   "execution_count": null,
   "metadata": {
    "collapsed": true,
    "deletable": true,
    "editable": true
   },
   "outputs": [],
   "source": []
  }
 ],
 "metadata": {
  "kernelspec": {
   "display_name": "Python 3",
   "language": "python",
   "name": "python3"
  },
  "language_info": {
   "codemirror_mode": {
    "name": "ipython",
    "version": 3
   },
   "file_extension": ".py",
   "mimetype": "text/x-python",
   "name": "python",
   "nbconvert_exporter": "python",
   "pygments_lexer": "ipython3",
   "version": "3.5.1"
  }
 },
 "nbformat": 4,
 "nbformat_minor": 2
}
