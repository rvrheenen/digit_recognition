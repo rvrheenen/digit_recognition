{
 "cells": [
  {
   "cell_type": "code",
   "execution_count": 2,
   "metadata": {
    "collapsed": false,
    "deletable": true,
    "editable": true
   },
   "outputs": [],
   "source": [
    "# imports\n",
    "from array import array\n",
    "import struct\n",
    "import numpy as np\n",
    "\n",
    "from sklearn.metrics import classification_report\n",
    "from sklearn.metrics import confusion_matrix"
   ]
  },
  {
   "cell_type": "code",
   "execution_count": 3,
   "metadata": {
    "collapsed": false,
    "deletable": true,
    "editable": true
   },
   "outputs": [],
   "source": [
    "def decode(p1,p2,p3,p4):\n",
    "    try:\n",
    "        label = open(p2, 'rb')\n",
    "        imgs = open(p1, 'rb')\n",
    "        test_imgs = open(p3, 'rb')\n",
    "        test_labels = open(p4, 'rb')\n",
    "    except Exception:\n",
    "        print (\"FileNotFound\")\n",
    "        exit()\n",
    "    \n",
    "    label.read(8)\n",
    "    labels = list(array(\"B\", label.read()))\n",
    "    \n",
    "    test_labels.read(8)\n",
    "    t_labels = list(array(\"B\", test_labels.read()))\n",
    "    \n",
    "    magic, size, rows, cols = struct.unpack(\">IIII\", imgs.read(16))\n",
    "    images = [float(i)/float(255) for i in list(array(\"B\", imgs.read()))]\n",
    "    \n",
    "    t_magic, t_size, t_rows, t_cols = struct.unpack(\">IIII\", test_imgs.read(16))\n",
    "    t_images = [float(i) / float(255) for i in list(array(\"B\", test_imgs.read()))]\n",
    "    \n",
    "    train_data=[(images[i:i+784]) for i in range(0,len(images),784)]\n",
    "    test_data=[(t_images[i:i+784]) for i in range(0,len(t_images),784)]\n",
    "    \n",
    "    return train_data, labels, test_data, t_labels"
   ]
  },
  {
   "cell_type": "code",
   "execution_count": 4,
   "metadata": {
    "collapsed": false,
    "deletable": true,
    "editable": true
   },
   "outputs": [],
   "source": [
    "train_data, train_labels, test_data, test_labels = decode('train-images-idx3-ubyte', 'train-labels-idx1-ubyte', 't10k-images-idx3-ubyte', 't10k-labels-idx1-ubyte')"
   ]
  },
  {
   "cell_type": "code",
   "execution_count": 5,
   "metadata": {
    "collapsed": true,
    "deletable": true,
    "editable": true
   },
   "outputs": [],
   "source": [
    "# Score the model\n",
    "def show_scoring(model, model_name):\n",
    "    print(\"Scoring of %s:\\n\" % (model_name))\n",
    "    print(\"Score: %s\\n\" % model.score(test_data, test_labels))\n",
    "\n",
    "    print(\"Classification report:\")\n",
    "    prediction = model.predict(test_data).astype(np.int32)\n",
    "    print(classification_report(prediction, test_labels))\n",
    "\n",
    "    print(\"\\n\\n\")\n",
    "    print(\"Confusion Matrix:\\n\")\n",
    "    print(\"\\t\", end=\"\")\n",
    "    for i in range(10):\n",
    "        print(i, end=\"\\t\")\n",
    "    print('\\n\\t', end=\"\")\n",
    "    for i in range(10):\n",
    "        print('----', end=\"\\t\")\n",
    "    print()\n",
    "    for i, row in enumerate(confusion_matrix(prediction, test_labels, labels=range(10))):\n",
    "        print(\"    %d\\t|\" % i, end=\"\")\n",
    "        for cell in row:\n",
    "            print(cell, end=\"\\t\")\n",
    "        print()"
   ]
  },
  {
   "cell_type": "code",
   "execution_count": 7,
   "metadata": {
    "collapsed": false,
    "deletable": true,
    "editable": true
   },
   "outputs": [
    {
     "name": "stdout",
     "output_type": "stream",
     "text": [
      "Scoring of Support Vector Machine:\n",
      "\n",
      "Score: 0.9446\n",
      "\n",
      "Classification report:\n",
      "             precision    recall  f1-score   support\n",
      "\n",
      "          0       0.99      0.96      0.97      1008\n",
      "          1       0.99      0.97      0.98      1158\n",
      "          2       0.93      0.94      0.93      1025\n",
      "          3       0.94      0.93      0.94      1024\n",
      "          4       0.96      0.93      0.94      1008\n",
      "          5       0.91      0.93      0.92       871\n",
      "          6       0.97      0.95      0.96       978\n",
      "          7       0.93      0.96      0.94      1000\n",
      "          8       0.92      0.94      0.93       948\n",
      "          9       0.92      0.94      0.93       980\n",
      "\n",
      "avg / total       0.95      0.94      0.94     10000\n",
      "\n",
      "\n",
      "\n",
      "\n",
      "Confusion Matrix:\n",
      "\n",
      "\t0\t1\t2\t3\t4\t5\t6\t7\t8\t9\t\n",
      "\t----\t----\t----\t----\t----\t----\t----\t----\t----\t----\t\n",
      "    0\t|967\t0\t9\t1\t1\t7\t9\t2\t4\t8\t\n",
      "    1\t|0\t1121\t1\t1\t1\t4\t3\t13\t7\t7\t\n",
      "    2\t|2\t2\t961\t15\t7\t5\t4\t22\t7\t0\t\n",
      "    3\t|0\t2\t9\t951\t0\t30\t1\t5\t14\t12\t\n",
      "    4\t|0\t0\t10\t1\t938\t7\t5\t8\t8\t31\t\n",
      "    5\t|5\t1\t1\t15\t0\t810\t9\t1\t23\t6\t\n",
      "    6\t|4\t4\t13\t1\t7\t12\t926\t0\t10\t1\t\n",
      "    7\t|1\t1\t9\t10\t2\t2\t0\t956\t6\t13\t\n",
      "    8\t|1\t4\t17\t11\t2\t10\t1\t3\t892\t7\t\n",
      "    9\t|0\t0\t2\t4\t24\t5\t0\t18\t3\t924\t\n"
     ]
    }
   ],
   "source": [
    "# Run Support Vector Machine\n",
    "from sklearn import svm\n",
    "# http://scikit-learn.org/stable/modules/generated/sklearn.svm.SVC.html#sklearn.svm.SVC\n",
    "clf = svm.SVC(kernel='rbf', gamma='auto', tol=0.001, C=1.0, class_weight=None,\n",
    "  max_iter=-1, random_state=None, shrinking=True)\n",
    "clf.fit(train_data, train_labels)\n",
    "show_scoring(clf, \"Support Vector Machine\")"
   ]
  },
  {
   "cell_type": "code",
   "execution_count": 6,
   "metadata": {
    "collapsed": false,
    "deletable": true,
    "editable": true
   },
   "outputs": [
    {
     "name": "stdout",
     "output_type": "stream",
     "text": [
      "Scoring of Linear Regression:\n",
      "\n",
      "Score: 0.9198\n",
      "\n",
      "Classification report:\n",
      "             precision    recall  f1-score   support\n",
      "\n",
      "          0       0.98      0.95      0.96      1012\n",
      "          1       0.98      0.96      0.97      1156\n",
      "          2       0.89      0.94      0.91       982\n",
      "          3       0.91      0.89      0.90      1027\n",
      "          4       0.93      0.92      0.93       996\n",
      "          5       0.86      0.89      0.88       865\n",
      "          6       0.95      0.94      0.94       968\n",
      "          7       0.93      0.93      0.93      1024\n",
      "          8       0.87      0.87      0.87       975\n",
      "          9       0.89      0.90      0.90       995\n",
      "\n",
      "avg / total       0.92      0.92      0.92     10000\n",
      "\n",
      "\n",
      "\n",
      "\n",
      "Confusion Matrix:\n",
      "\n",
      "\t0\t1\t2\t3\t4\t5\t6\t7\t8\t9\t\n",
      "\t----\t----\t----\t----\t----\t----\t----\t----\t----\t----\t\n",
      "    0\t|959\t0\t9\t4\t1\t10\t9\t2\t10\t8\t\n",
      "    1\t|0\t1112\t8\t0\t2\t2\t3\t7\t14\t8\t\n",
      "    2\t|1\t3\t920\t17\t5\t0\t7\t22\t5\t2\t\n",
      "    3\t|2\t1\t20\t918\t3\t42\t2\t5\t21\t13\t\n",
      "    4\t|0\t0\t9\t2\t915\t10\t6\t8\t15\t31\t\n",
      "    5\t|5\t1\t4\t23\t0\t769\t20\t1\t28\t14\t\n",
      "    6\t|6\t5\t10\t4\t10\t17\t907\t1\t8\t0\t\n",
      "    7\t|4\t1\t11\t12\t2\t7\t1\t951\t11\t24\t\n",
      "    8\t|1\t12\t37\t21\t6\t28\t3\t5\t850\t12\t\n",
      "    9\t|2\t0\t4\t9\t38\t7\t0\t26\t12\t897\t\n"
     ]
    }
   ],
   "source": [
    "# Run Linear Regression\n",
    "from sklearn.linear_model import LogisticRegression\n",
    "# http://scikit-learn.org/stable/modules/generated/sklearn.linear_model.LogisticRegression.html#sklearn.linear_model.LogisticRegression\n",
    "clf = LogisticRegression(solver='newton-cg', penalty='l2', tol=0.0001, C=1.0, class_weight=None, random_state=None, \n",
    "                         max_iter=100, multi_class='ovr', n_jobs=-1)\n",
    "clf.fit(train_data, train_labels)\n",
    "show_scoring(clf, \"Linear Regression\")"
   ]
  },
  {
   "cell_type": "code",
   "execution_count": 86,
   "metadata": {
    "collapsed": false,
    "deletable": true,
    "editable": true
   },
   "outputs": [
    {
     "name": "stdout",
     "output_type": "stream",
     "text": [
      "Scoring of Multi-layer Perceptron Neural Network:\n",
      "\n",
      "Score: 0.9712\n",
      "\n",
      "Classification report:\n",
      "             precision    recall  f1-score   support\n",
      "\n",
      "          0       0.99      0.97      0.98       994\n",
      "          1       0.99      0.98      0.99      1139\n",
      "          2       0.97      0.97      0.97      1038\n",
      "          3       0.97      0.97      0.97      1015\n",
      "          4       0.97      0.97      0.97       979\n",
      "          5       0.96      0.96      0.96       890\n",
      "          6       0.97      0.97      0.97       952\n",
      "          7       0.97      0.98      0.97      1020\n",
      "          8       0.96      0.97      0.96       965\n",
      "          9       0.96      0.96      0.96      1008\n",
      "\n",
      "avg / total       0.97      0.97      0.97     10000\n",
      "\n",
      "\n",
      "\n",
      "\n",
      "Confusion Matrix:\n",
      "\n",
      "\t0\t1\t2\t3\t4\t5\t6\t7\t8\t9\t\n",
      "\t----\t----\t----\t----\t----\t----\t----\t----\t----\t----\t\n",
      "    0\t|969\t0\t4\t0\t1\t3\t8\t1\t7\t1\t\n",
      "    1\t|0\t1121\t2\t0\t1\t0\t3\t7\t1\t4\t\n",
      "    2\t|0\t5\t1005\t6\t3\t0\t3\t8\t6\t2\t\n",
      "    3\t|1\t1\t3\t982\t0\t14\t1\t4\t2\t7\t\n",
      "    4\t|1\t0\t3\t0\t951\t1\t7\t1\t5\t10\t\n",
      "    5\t|2\t1\t1\t7\t2\t858\t8\t1\t4\t6\t\n",
      "    6\t|2\t2\t3\t0\t7\t4\t926\t0\t6\t2\t\n",
      "    7\t|1\t2\t3\t4\t3\t0\t0\t998\t4\t5\t\n",
      "    8\t|3\t3\t7\t1\t1\t5\t2\t3\t935\t5\t\n",
      "    9\t|1\t0\t1\t10\t13\t7\t0\t5\t4\t967\t\n"
     ]
    }
   ],
   "source": [
    "from sklearn.neural_network import MLPClassifier\n",
    "#http://scikit-learn.org/stable/modules/generated/sklearn.neural_network.MLPClassifier.html#sklearn.neural_network.MLPClassifier\n",
    "clf = MLPClassifier(solver='lbfgs', hidden_layer_sizes=(60), tol=0.0001, learning_rate='constant',\n",
    "                    activation='relu', alpha=1e-05, beta_1=0.9, beta_2=0.999, early_stopping=False, \n",
    "                    epsilon=1e-08, learning_rate_init=0.001, max_iter=200, random_state=None)\n",
    "clf.fit(train_data, train_labels)\n",
    "show_scoring(clf, \"Multi-layer Perceptron Neural Network\")"
   ]
  },
  {
   "cell_type": "code",
   "execution_count": null,
   "metadata": {
    "collapsed": true,
    "deletable": true,
    "editable": true
   },
   "outputs": [],
   "source": []
  }
 ],
 "metadata": {
  "kernelspec": {
   "display_name": "Python 3",
   "language": "python",
   "name": "python3"
  },
  "language_info": {
   "codemirror_mode": {
    "name": "ipython",
    "version": 3
   },
   "file_extension": ".py",
   "mimetype": "text/x-python",
   "name": "python",
   "nbconvert_exporter": "python",
   "pygments_lexer": "ipython3",
   "version": "3.5.1"
  }
 },
 "nbformat": 4,
 "nbformat_minor": 2
}
